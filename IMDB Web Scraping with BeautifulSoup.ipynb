{
 "cells": [
  {
   "cell_type": "code",
   "execution_count": 1,
   "id": "7a2dd742",
   "metadata": {},
   "outputs": [],
   "source": [
    "# Import library requests\n",
    "import requests"
   ]
  },
  {
   "cell_type": "code",
   "execution_count": 2,
   "id": "70f50cf8",
   "metadata": {},
   "outputs": [],
   "source": [
    "url = \"https://www.imdb.com/search/title/?title_type=feature&release_date=2023-01-01,2023-12-01&countries=ID\""
   ]
  },
  {
   "cell_type": "code",
   "execution_count": 3,
   "id": "131a4446",
   "metadata": {},
   "outputs": [],
   "source": [
    "session = requests.Session()\n",
    "headers = {'User-Agent': 'Mozilla/5.0 (X11; Linux x86_64) AppleWebKit/537.36 (KHTML, like Gecko) Chrome/51.0.2704.103 Safari/537.36'}\n",
    "response = session.get(url, headers=headers)"
   ]
  },
  {
   "cell_type": "code",
   "execution_count": 4,
   "id": "80918efd",
   "metadata": {},
   "outputs": [
    {
     "data": {
      "text/plain": [
       "<Response [200]>"
      ]
     },
     "execution_count": 4,
     "metadata": {},
     "output_type": "execute_result"
    }
   ],
   "source": [
    "response"
   ]
  },
  {
   "cell_type": "code",
   "execution_count": 5,
   "id": "9902f75a",
   "metadata": {},
   "outputs": [],
   "source": [
    "# Import library BeautifulSoup\n",
    "from bs4 import BeautifulSoup"
   ]
  },
  {
   "cell_type": "code",
   "execution_count": 6,
   "id": "132b3474",
   "metadata": {},
   "outputs": [],
   "source": [
    "soup = (response.content, \"html.parser\")"
   ]
  },
  {
   "cell_type": "code",
   "execution_count": 13,
   "id": "dfe770c7",
   "metadata": {},
   "outputs": [],
   "source": [
    "session = requests.Session()\n",
    "headers = {'User-Agent': 'Mozilla/5.0 (X11; Linux x86_64) AppleWebKit/537.36 (KHTML, like Gecko) Chrome/51.0.2704.103 Safari/537.36'}\n",
    "response = session.get(url, headers=headers)    "
   ]
  },
  {
   "cell_type": "code",
   "execution_count": 14,
   "id": "6a0958d9",
   "metadata": {},
   "outputs": [
    {
     "data": {
      "text/plain": [
       "<Response [200]>"
      ]
     },
     "execution_count": 14,
     "metadata": {},
     "output_type": "execute_result"
    }
   ],
   "source": [
    "response"
   ]
  },
  {
   "cell_type": "code",
   "execution_count": 18,
   "id": "dc215b58",
   "metadata": {},
   "outputs": [],
   "source": [
    "soup = BeautifulSoup(response.content, \"html.parser\")"
   ]
  },
  {
   "cell_type": "code",
   "execution_count": null,
   "id": "1a12c5b0",
   "metadata": {},
   "outputs": [],
   "source": []
  },
  {
   "cell_type": "code",
   "execution_count": 109,
   "id": "111d3614",
   "metadata": {},
   "outputs": [],
   "source": [
    "def imdb_movie_scrape(url) :\n",
    "    movie_results = soup.find_all('div'\n",
    "                                 ,class_ = \"sc-21df249b-4 jIogGj dli-parent\")\n",
    "    \n",
    "    movie_data = []\n",
    "    \n",
    "    for movie in movie_results :\n",
    "        title = movie.find('a'\n",
    "                          , class_ = \"ipc-title-link-wrapper\").get_text()\n",
    "        \n",
    "        # Mengambil nilai dari tag span pertama (year)\n",
    "        year = movie.find('span'\n",
    "                          , class_=\"sc-479faa3c-8 bNrEFi dli-title-metadata-item\").get_text()\n",
    "\n",
    "        # Mengambil nilai dari tag span kedua (duration)\n",
    "        duration = movie.find_all('span'\n",
    "                                  , class_=\"sc-479faa3c-8 bNrEFi dli-title-metadata-item\")[1].get_text()\n",
    "        \n",
    "        rating_span = movie.find('span', class_='ipc-rating-star--base')\n",
    "        rating = rating_span.get_text(strip=True) if rating_span else None\n",
    "        \n",
    "        vote_count_element = movie.find_next('span', class_='ipc-rating-star--voteCount')\n",
    "        vote_count = vote_count_element.get_text(strip=True).replace('(', '').replace(')', '') if vote_count_element else None\n",
    "\n",
    "        \n",
    "#         vote_count = movie.find('span'\n",
    "#                                 , class_='ipc-rating-star--voteCount').get_text(strip=True)\n",
    "        \n",
    "        \n",
    "        movie_data.append({'title' : title\n",
    "                           ,'year' : year\n",
    "                           ,'duration' : duration\n",
    "                           ,'rating' : rating})\n",
    "    \n",
    "    return movie_data\n",
    "    "
   ]
  },
  {
   "cell_type": "code",
   "execution_count": 110,
   "id": "1ccba987",
   "metadata": {},
   "outputs": [
    {
     "data": {
      "text/plain": [
       "[{'title': '1. Operation Fortune: Ruse de Guerre',\n",
       "  'year': '2023',\n",
       "  'duration': '1h 54m',\n",
       "  'rating': '6.3(77K)'},\n",
       " {'title': '2. 172 Days',\n",
       "  'year': '2023',\n",
       "  'duration': '1h 43m',\n",
       "  'rating': '7.1(188)'},\n",
       " {'title': '3. Sijjin',\n",
       "  'year': '2023',\n",
       "  'duration': '1h 40m',\n",
       "  'rating': '7.5(94)'},\n",
       " {'title': '4. Sewu Dino',\n",
       "  'year': '2023',\n",
       "  'duration': '2h 1m',\n",
       "  'rating': '6.1(2K)'},\n",
       " {'title': '5. Air Mata Di Ujung Sajadah',\n",
       "  'year': '2023',\n",
       "  'duration': '1h 45m',\n",
       "  'rating': '7.3(1.3K)'},\n",
       " {'title': '6. Jatuh Cinta Seperti di Film-Film',\n",
       "  'year': '2023',\n",
       "  'duration': '1h 58m',\n",
       "  'rating': '8.9(183)'},\n",
       " {'title': '7. Tiger Stripes',\n",
       "  'year': '2023',\n",
       "  'duration': '1h 35m',\n",
       "  'rating': '6.3(295)'},\n",
       " {'title': '8. Budi Pekerti',\n",
       "  'year': '2023',\n",
       "  'duration': '1h 50m',\n",
       "  'rating': '8.3(374)'},\n",
       " {'title': '9. Sweet Dreams',\n",
       "  'year': '2023',\n",
       "  'duration': '1h 42m',\n",
       "  'rating': '6.6(568)'},\n",
       " {'title': '10. Pamali: Dusun Pocong',\n",
       "  'year': '2023',\n",
       "  'duration': '1h 37m',\n",
       "  'rating': '7.1(447)'},\n",
       " {'title': '11. Ketika Berhenti di Sini',\n",
       "  'year': '2023',\n",
       "  'duration': '1h 42m',\n",
       "  'rating': '5.9(215)'},\n",
       " {'title': '12. Galaksi',\n",
       "  'year': '2023',\n",
       "  'duration': '1h 58m',\n",
       "  'rating': '7.3(134)'},\n",
       " {'title': '13. Gampang Cuan',\n",
       "  'year': '2023',\n",
       "  'duration': '1h 58m',\n",
       "  'rating': '8.4(72)'},\n",
       " {'title': '14. Khanzab',\n",
       "  'year': '2023',\n",
       "  'duration': '1h 45m',\n",
       "  'rating': '4.7(349)'},\n",
       " {'title': '15. Saranjana: Kota Ghaib',\n",
       "  'year': '2023',\n",
       "  'duration': '1h 38m',\n",
       "  'rating': '4.4(212)'},\n",
       " {'title': '16. Ice Cold: Murder, Coffee and Jessica Wongso',\n",
       "  'year': '2023',\n",
       "  'duration': '1h 26m',\n",
       "  'rating': '6.0(1.4K)'},\n",
       " {'title': '17. Perjanjian Gaib',\n",
       "  'year': '2023',\n",
       "  'duration': '1h 42m',\n",
       "  'rating': '5.8(102)'},\n",
       " {'title': '18. Srimulat: Hidup Memang Komedi',\n",
       "  'year': '2023',\n",
       "  'duration': '1h 45m',\n",
       "  'rating': '7.7(21)'},\n",
       " {'title': '19. 24 Jam Bersama Gaspar',\n",
       "  'year': '2023',\n",
       "  'duration': '1h 38m',\n",
       "  'rating': '6.4(8)'},\n",
       " {'title': '20. Suzzanna: Kliwon Friday Night',\n",
       "  'year': '2023',\n",
       "  'duration': '2h 12m',\n",
       "  'rating': '6.1(233)'},\n",
       " {'title': '21. The Haunted Place',\n",
       "  'year': '2023',\n",
       "  'duration': '1h 50m',\n",
       "  'rating': '6.4(19)'},\n",
       " {'title': '22. Ganjil Genap',\n",
       "  'year': '2023',\n",
       "  'duration': '2h 4m',\n",
       "  'rating': '7.5(72)'},\n",
       " {'title': '23. Catatan Si Boy',\n",
       "  'year': '2023',\n",
       "  'duration': '2h 6m',\n",
       "  'rating': '8.3(79)'},\n",
       " {'title': '24. Waktu Maghrib',\n",
       "  'year': '2023',\n",
       "  'duration': '1h 44m',\n",
       "  'rating': '6.0(773)'},\n",
       " {'title': '25. Bangku Kosong: Ujian Terakhir',\n",
       "  'year': '2023',\n",
       "  'duration': '1h 26m',\n",
       "  'rating': '7.3(51)'},\n",
       " {'title': '26. Sleep Call',\n",
       "  'year': '2023',\n",
       "  'duration': '1h 40m',\n",
       "  'rating': '7.5(192)'},\n",
       " {'title': '27. Last Shadow at First Light',\n",
       "  'year': '2023',\n",
       "  'duration': '1h 47m',\n",
       "  'rating': '8.2(30)'},\n",
       " {'title': '28. Sosok Ketiga',\n",
       "  'year': '2023',\n",
       "  'duration': '1h 39m',\n",
       "  'rating': '7.7(47)'},\n",
       " {'title': '29. The Heart of Suhita',\n",
       "  'year': '2023',\n",
       "  'duration': '2h 17m',\n",
       "  'rating': '6.8(138)'},\n",
       " {'title': '30. Primbon',\n",
       "  'year': '2023',\n",
       "  'duration': '1h 28m',\n",
       "  'rating': '9.2(98)'},\n",
       " {'title': '31. Aku Tahu Kapan Kamu Mati: Suicide Village',\n",
       "  'year': '2023',\n",
       "  'duration': '1h 45m',\n",
       "  'rating': '7.3(49)'},\n",
       " {'title': '32. Di Ambang Kematian',\n",
       "  'year': '2023',\n",
       "  'duration': '1h 37m',\n",
       "  'rating': '6.6(175)'},\n",
       " {'title': '33. Kejar Mimpi Gaspol!',\n",
       "  'year': '2023',\n",
       "  'duration': '1h 53m',\n",
       "  'rating': '8.6(82)'},\n",
       " {'title': '34. Para Betina Pengikut Iblis',\n",
       "  'year': '2023',\n",
       "  'duration': '1h 30m',\n",
       "  'rating': '4.2(183)'},\n",
       " {'title': '35. 200 Pounds Beauty',\n",
       "  'year': '2023',\n",
       "  'duration': '1h 35m',\n",
       "  'rating': '7.7(91)'},\n",
       " {'title': '36. Jin & Jun',\n",
       "  'year': '2023',\n",
       "  'duration': '1h 55m',\n",
       "  'rating': '5.3(606)'},\n",
       " {'title': '37. Susuk: Kutukan Kecantikan',\n",
       "  'year': '2023',\n",
       "  'duration': '1h 42m',\n",
       "  'rating': '6.5(128)'},\n",
       " {'title': '38. Jomblo Fi Sabilillah',\n",
       "  'year': '2023',\n",
       "  'duration': '2h 2m',\n",
       "  'rating': '9.7(36)'},\n",
       " {'title': '39. Spirit Doll',\n",
       "  'year': '2023',\n",
       "  'duration': '1h 26m',\n",
       "  'rating': '3.9(125)'},\n",
       " {'title': '40. The Day Before the Wedding',\n",
       "  'year': '2023',\n",
       "  'duration': '1h 10m',\n",
       "  'rating': '5.3(107)'},\n",
       " {'title': '41. Dear Jo: Almost Is Never Enough',\n",
       "  'year': '2023',\n",
       "  'duration': '1h 44m',\n",
       "  'rating': '9.1(26)'},\n",
       " {'title': '42. Hari Ini Akan Kita Ceritakan Nanti',\n",
       "  'year': '2023',\n",
       "  'duration': '1h 57m',\n",
       "  'rating': '5.3(149)'},\n",
       " {'title': '43. Mangkujiwo 2',\n",
       "  'year': '2023',\n",
       "  'duration': '2h',\n",
       "  'rating': '6.9(92)'},\n",
       " {'title': '44. Pemukiman Setan',\n",
       "  'year': '2023',\n",
       "  'duration': '1h 35m',\n",
       "  'rating': 'Rate'},\n",
       " {'title': '45. Jalan yang Jauh, Jangan Lupa Pulang',\n",
       "  'year': '2023',\n",
       "  'duration': '1h 49m',\n",
       "  'rating': '6.7(356)'},\n",
       " {'title': '46. Sleeping Beauties',\n",
       "  'year': '2023',\n",
       "  'duration': '1h 30m',\n",
       "  'rating': '3.5(132)'},\n",
       " {'title': '47. Perjamuan Iblis',\n",
       "  'year': '2023',\n",
       "  'duration': '1h 55m',\n",
       "  'rating': '5.7(15)'},\n",
       " {'title': '48. Mappacci - Malam Pacar',\n",
       "  'year': '2023',\n",
       "  'duration': '1h 49m',\n",
       "  'rating': '9.7(98)'},\n",
       " {'title': '49. Indigo',\n",
       "  'year': '2023',\n",
       "  'duration': '1h 58m',\n",
       "  'rating': '6.5(138)'},\n",
       " {'title': '50. Scandal Makers',\n",
       "  'year': '2023',\n",
       "  'duration': '1h 26m',\n",
       "  'rating': '7.7(87)'}]"
      ]
     },
     "execution_count": 110,
     "metadata": {},
     "output_type": "execute_result"
    }
   ],
   "source": [
    "imdb_movie_scrape(url)"
   ]
  }
 ],
 "metadata": {
  "kernelspec": {
   "display_name": "Python 3 (ipykernel)",
   "language": "python",
   "name": "python3"
  },
  "language_info": {
   "codemirror_mode": {
    "name": "ipython",
    "version": 3
   },
   "file_extension": ".py",
   "mimetype": "text/x-python",
   "name": "python",
   "nbconvert_exporter": "python",
   "pygments_lexer": "ipython3",
   "version": "3.8.8"
  }
 },
 "nbformat": 4,
 "nbformat_minor": 5
}
